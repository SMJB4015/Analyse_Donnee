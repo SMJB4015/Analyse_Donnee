{
 "cells": [
  {
   "cell_type": "code",
   "execution_count": 88,
   "metadata": {},
   "outputs": [],
   "source": [
    "#Projet Analyse de donnee\n",
    "# Nom Et Prenom\n",
    "#Groupe GlF2\n",
    "\n",
    "import pandas as pd\n",
    "import numpy as py\n",
    "import matplotlib.pyplot as plt\n",
    "\n"
   ]
  },
  {
   "cell_type": "markdown",
   "metadata": {},
   "source": [
    "#DataSet\n",
    "Importation de dataset "
   ]
  },
  {
   "cell_type": "code",
   "execution_count": 89,
   "metadata": {},
   "outputs": [],
   "source": [
    "forex=pd.read_csv('data/EURUSD.csv')"
   ]
  },
  {
   "cell_type": "markdown",
   "metadata": {},
   "source": [
    "Exploration de dataset"
   ]
  },
  {
   "cell_type": "code",
   "execution_count": 90,
   "metadata": {},
   "outputs": [
    {
     "name": "stdout",
     "output_type": "stream",
     "text": [
      "<class 'pandas.core.frame.DataFrame'>\n",
      "RangeIndex: 28860 entries, 0 to 28859\n",
      "Data columns (total 6 columns):\n",
      " #   Column    Non-Null Count  Dtype  \n",
      "---  ------    --------------  -----  \n",
      " 0   Gmt time  28860 non-null  object \n",
      " 1   open      28860 non-null  float64\n",
      " 2   high      28860 non-null  float64\n",
      " 3   low       28860 non-null  float64\n",
      " 4   close     28860 non-null  float64\n",
      " 5   volume    28860 non-null  float64\n",
      "dtypes: float64(5), object(1)\n",
      "memory usage: 1.3+ MB\n"
     ]
    }
   ],
   "source": [
    "forex.info()"
   ]
  },
  {
   "cell_type": "markdown",
   "metadata": {},
   "source": [
    "affichage de 5 premiers lignes"
   ]
  },
  {
   "cell_type": "code",
   "execution_count": 91,
   "metadata": {},
   "outputs": [
    {
     "data": {
      "text/html": [
       "<div>\n",
       "<style scoped>\n",
       "    .dataframe tbody tr th:only-of-type {\n",
       "        vertical-align: middle;\n",
       "    }\n",
       "\n",
       "    .dataframe tbody tr th {\n",
       "        vertical-align: top;\n",
       "    }\n",
       "\n",
       "    .dataframe thead th {\n",
       "        text-align: right;\n",
       "    }\n",
       "</style>\n",
       "<table border=\"1\" class=\"dataframe\">\n",
       "  <thead>\n",
       "    <tr style=\"text-align: right;\">\n",
       "      <th></th>\n",
       "      <th>Gmt time</th>\n",
       "      <th>open</th>\n",
       "      <th>high</th>\n",
       "      <th>low</th>\n",
       "      <th>close</th>\n",
       "      <th>volume</th>\n",
       "    </tr>\n",
       "  </thead>\n",
       "  <tbody>\n",
       "    <tr>\n",
       "      <th>0</th>\n",
       "      <td>04.05.2003 21:00:00.000</td>\n",
       "      <td>1.12354</td>\n",
       "      <td>1.12354</td>\n",
       "      <td>1.12166</td>\n",
       "      <td>1.12274</td>\n",
       "      <td>95533.0976</td>\n",
       "    </tr>\n",
       "    <tr>\n",
       "      <th>1</th>\n",
       "      <td>05.05.2003 01:00:00.000</td>\n",
       "      <td>1.12242</td>\n",
       "      <td>1.12276</td>\n",
       "      <td>1.12067</td>\n",
       "      <td>1.12126</td>\n",
       "      <td>93778.5996</td>\n",
       "    </tr>\n",
       "    <tr>\n",
       "      <th>2</th>\n",
       "      <td>05.05.2003 05:00:00.000</td>\n",
       "      <td>1.12139</td>\n",
       "      <td>1.12255</td>\n",
       "      <td>1.12030</td>\n",
       "      <td>1.12113</td>\n",
       "      <td>90924.6992</td>\n",
       "    </tr>\n",
       "    <tr>\n",
       "      <th>3</th>\n",
       "      <td>05.05.2003 09:00:00.000</td>\n",
       "      <td>1.12092</td>\n",
       "      <td>1.12331</td>\n",
       "      <td>1.12049</td>\n",
       "      <td>1.12174</td>\n",
       "      <td>91254.6992</td>\n",
       "    </tr>\n",
       "    <tr>\n",
       "      <th>4</th>\n",
       "      <td>05.05.2003 13:00:00.000</td>\n",
       "      <td>1.12194</td>\n",
       "      <td>1.12900</td>\n",
       "      <td>1.12130</td>\n",
       "      <td>1.12712</td>\n",
       "      <td>308003.4083</td>\n",
       "    </tr>\n",
       "  </tbody>\n",
       "</table>\n",
       "</div>"
      ],
      "text/plain": [
       "                  Gmt time     open     high      low    close       volume\n",
       "0  04.05.2003 21:00:00.000  1.12354  1.12354  1.12166  1.12274   95533.0976\n",
       "1  05.05.2003 01:00:00.000  1.12242  1.12276  1.12067  1.12126   93778.5996\n",
       "2  05.05.2003 05:00:00.000  1.12139  1.12255  1.12030  1.12113   90924.6992\n",
       "3  05.05.2003 09:00:00.000  1.12092  1.12331  1.12049  1.12174   91254.6992\n",
       "4  05.05.2003 13:00:00.000  1.12194  1.12900  1.12130  1.12712  308003.4083"
      ]
     },
     "execution_count": 91,
     "metadata": {},
     "output_type": "execute_result"
    }
   ],
   "source": [
    "forex.head()"
   ]
  },
  {
   "cell_type": "markdown",
   "metadata": {},
   "source": [
    "**Description**"
   ]
  },
  {
   "cell_type": "code",
   "execution_count": 92,
   "metadata": {},
   "outputs": [
    {
     "data": {
      "text/html": [
       "<div>\n",
       "<style scoped>\n",
       "    .dataframe tbody tr th:only-of-type {\n",
       "        vertical-align: middle;\n",
       "    }\n",
       "\n",
       "    .dataframe tbody tr th {\n",
       "        vertical-align: top;\n",
       "    }\n",
       "\n",
       "    .dataframe thead th {\n",
       "        text-align: right;\n",
       "    }\n",
       "</style>\n",
       "<table border=\"1\" class=\"dataframe\">\n",
       "  <thead>\n",
       "    <tr style=\"text-align: right;\">\n",
       "      <th></th>\n",
       "      <th>open</th>\n",
       "      <th>high</th>\n",
       "      <th>low</th>\n",
       "      <th>close</th>\n",
       "      <th>volume</th>\n",
       "    </tr>\n",
       "  </thead>\n",
       "  <tbody>\n",
       "    <tr>\n",
       "      <th>count</th>\n",
       "      <td>28860.000000</td>\n",
       "      <td>28860.000000</td>\n",
       "      <td>28860.000000</td>\n",
       "      <td>28860.000000</td>\n",
       "      <td>28860.000000</td>\n",
       "    </tr>\n",
       "    <tr>\n",
       "      <th>mean</th>\n",
       "      <td>1.254449</td>\n",
       "      <td>1.256497</td>\n",
       "      <td>1.252384</td>\n",
       "      <td>1.254457</td>\n",
       "      <td>83078.835388</td>\n",
       "    </tr>\n",
       "    <tr>\n",
       "      <th>std</th>\n",
       "      <td>0.119505</td>\n",
       "      <td>0.119839</td>\n",
       "      <td>0.119131</td>\n",
       "      <td>0.119503</td>\n",
       "      <td>100637.239637</td>\n",
       "    </tr>\n",
       "    <tr>\n",
       "      <th>min</th>\n",
       "      <td>1.036930</td>\n",
       "      <td>1.039200</td>\n",
       "      <td>1.034050</td>\n",
       "      <td>1.036970</td>\n",
       "      <td>0.000000</td>\n",
       "    </tr>\n",
       "    <tr>\n",
       "      <th>25%</th>\n",
       "      <td>1.154278</td>\n",
       "      <td>1.155988</td>\n",
       "      <td>1.152438</td>\n",
       "      <td>1.154285</td>\n",
       "      <td>20322.189925</td>\n",
       "    </tr>\n",
       "    <tr>\n",
       "      <th>50%</th>\n",
       "      <td>1.242230</td>\n",
       "      <td>1.244390</td>\n",
       "      <td>1.239885</td>\n",
       "      <td>1.242260</td>\n",
       "      <td>47812.714850</td>\n",
       "    </tr>\n",
       "    <tr>\n",
       "      <th>75%</th>\n",
       "      <td>1.338760</td>\n",
       "      <td>1.340750</td>\n",
       "      <td>1.336512</td>\n",
       "      <td>1.338763</td>\n",
       "      <td>102454.949700</td>\n",
       "    </tr>\n",
       "    <tr>\n",
       "      <th>max</th>\n",
       "      <td>1.599500</td>\n",
       "      <td>1.604030</td>\n",
       "      <td>1.596950</td>\n",
       "      <td>1.599240</td>\n",
       "      <td>752269.093800</td>\n",
       "    </tr>\n",
       "  </tbody>\n",
       "</table>\n",
       "</div>"
      ],
      "text/plain": [
       "               open          high           low         close         volume\n",
       "count  28860.000000  28860.000000  28860.000000  28860.000000   28860.000000\n",
       "mean       1.254449      1.256497      1.252384      1.254457   83078.835388\n",
       "std        0.119505      0.119839      0.119131      0.119503  100637.239637\n",
       "min        1.036930      1.039200      1.034050      1.036970       0.000000\n",
       "25%        1.154278      1.155988      1.152438      1.154285   20322.189925\n",
       "50%        1.242230      1.244390      1.239885      1.242260   47812.714850\n",
       "75%        1.338760      1.340750      1.336512      1.338763  102454.949700\n",
       "max        1.599500      1.604030      1.596950      1.599240  752269.093800"
      ]
     },
     "execution_count": 92,
     "metadata": {},
     "output_type": "execute_result"
    }
   ],
   "source": [
    "forex.describe()"
   ]
  },
  {
   "cell_type": "code",
   "execution_count": 93,
   "metadata": {},
   "outputs": [
    {
     "data": {
      "text/plain": [
       "<AxesSubplot:>"
      ]
     },
     "execution_count": 93,
     "metadata": {},
     "output_type": "execute_result"
    },
    {
     "data": {
      "image/png": "[encoded data removed]",
      "text/plain": [
       "<Figure size 432x288 with 1 Axes>"
      ]
     },
     "metadata": {
      "needs_background": "light"
     },
     "output_type": "display_data"
    }
   ],
   "source": [
    "forex.boxplot(\"open\")\n"
   ]
  },
  {
   "cell_type": "code",
   "execution_count": 94,
   "metadata": {},
   "outputs": [
    {
     "data": {
      "text/plain": [
       "<AxesSubplot:>"
      ]
     },
     "execution_count": 94,
     "metadata": {},
     "output_type": "execute_result"
    },
    {
     "data": {
      "image/png": "[encoded data removed]",
      "text/plain": [
       "<Figure size 432x288 with 1 Axes>"
      ]
     },
     "metadata": {
      "needs_background": "light"
     },
     "output_type": "display_data"
    }
   ],
   "source": [
    "forex.boxplot(\"close\")"
   ]
  },
  {
   "cell_type": "code",
   "execution_count": 95,
   "metadata": {},
   "outputs": [
    {
     "data": {
      "text/plain": [
       "<AxesSubplot:>"
      ]
     },
     "execution_count": 95,
     "metadata": {},
     "output_type": "execute_result"
    },
    {
     "data": {
      "image/png": "[encoded data removed]",
      "text/plain": [
       "<Figure size 432x288 with 1 Axes>"
      ]
     },
     "metadata": {
      "needs_background": "light"
     },
     "output_type": "display_data"
    }
   ],
   "source": [
    "forex.boxplot(\"volume\")"
   ]
  },
  {
   "cell_type": "markdown",
   "metadata": {},
   "source": [
    "**convert date to datetime format**"
   ]
  },
  {
   "cell_type": "code",
   "execution_count": 96,
   "metadata": {},
   "outputs": [],
   "source": [
    "forex['Gmt time'] = pd.to_datetime(forex['Gmt time'])"
   ]
  },
  {
   "cell_type": "markdown",
   "metadata": {},
   "source": [
    "**Set the index to be the new date**\n"
   ]
  },
  {
   "cell_type": "code",
   "execution_count": 97,
   "metadata": {},
   "outputs": [],
   "source": [
    "forex.index = forex['Gmt time']"
   ]
  },
  {
   "cell_type": "markdown",
   "metadata": {},
   "source": [
    "**Delete the original Date column (value), because we have set the index to be the new Date**"
   ]
  },
  {
   "cell_type": "code",
   "execution_count": 98,
   "metadata": {},
   "outputs": [],
   "source": [
    "del forex['Gmt time']"
   ]
  },
  {
   "cell_type": "markdown",
   "metadata": {},
   "source": [
    "**Display the rows, now that we've manipulated the index and Date**"
   ]
  },
  {
   "cell_type": "code",
   "execution_count": 99,
   "metadata": {},
   "outputs": [
    {
     "data": {
      "text/html": [
       "<div>\n",
       "<style scoped>\n",
       "    .dataframe tbody tr th:only-of-type {\n",
       "        vertical-align: middle;\n",
       "    }\n",
       "\n",
       "    .dataframe tbody tr th {\n",
       "        vertical-align: top;\n",
       "    }\n",
       "\n",
       "    .dataframe thead th {\n",
       "        text-align: right;\n",
       "    }\n",
       "</style>\n",
       "<table border=\"1\" class=\"dataframe\">\n",
       "  <thead>\n",
       "    <tr style=\"text-align: right;\">\n",
       "      <th></th>\n",
       "      <th>open</th>\n",
       "      <th>high</th>\n",
       "      <th>low</th>\n",
       "      <th>close</th>\n",
       "      <th>volume</th>\n",
       "    </tr>\n",
       "    <tr>\n",
       "      <th>Gmt time</th>\n",
       "      <th></th>\n",
       "      <th></th>\n",
       "      <th></th>\n",
       "      <th></th>\n",
       "      <th></th>\n",
       "    </tr>\n",
       "  </thead>\n",
       "  <tbody>\n",
       "    <tr>\n",
       "      <th>2003-04-05 21:00:00</th>\n",
       "      <td>1.12354</td>\n",
       "      <td>1.12354</td>\n",
       "      <td>1.12166</td>\n",
       "      <td>1.12274</td>\n",
       "      <td>95533.0976</td>\n",
       "    </tr>\n",
       "    <tr>\n",
       "      <th>2003-05-05 01:00:00</th>\n",
       "      <td>1.12242</td>\n",
       "      <td>1.12276</td>\n",
       "      <td>1.12067</td>\n",
       "      <td>1.12126</td>\n",
       "      <td>93778.5996</td>\n",
       "    </tr>\n",
       "    <tr>\n",
       "      <th>2003-05-05 05:00:00</th>\n",
       "      <td>1.12139</td>\n",
       "      <td>1.12255</td>\n",
       "      <td>1.12030</td>\n",
       "      <td>1.12113</td>\n",
       "      <td>90924.6992</td>\n",
       "    </tr>\n",
       "    <tr>\n",
       "      <th>2003-05-05 09:00:00</th>\n",
       "      <td>1.12092</td>\n",
       "      <td>1.12331</td>\n",
       "      <td>1.12049</td>\n",
       "      <td>1.12174</td>\n",
       "      <td>91254.6992</td>\n",
       "    </tr>\n",
       "    <tr>\n",
       "      <th>2003-05-05 13:00:00</th>\n",
       "      <td>1.12194</td>\n",
       "      <td>1.12900</td>\n",
       "      <td>1.12130</td>\n",
       "      <td>1.12712</td>\n",
       "      <td>308003.4083</td>\n",
       "    </tr>\n",
       "  </tbody>\n",
       "</table>\n",
       "</div>"
      ],
      "text/plain": [
       "                        open     high      low    close       volume\n",
       "Gmt time                                                            \n",
       "2003-04-05 21:00:00  1.12354  1.12354  1.12166  1.12274   95533.0976\n",
       "2003-05-05 01:00:00  1.12242  1.12276  1.12067  1.12126   93778.5996\n",
       "2003-05-05 05:00:00  1.12139  1.12255  1.12030  1.12113   90924.6992\n",
       "2003-05-05 09:00:00  1.12092  1.12331  1.12049  1.12174   91254.6992\n",
       "2003-05-05 13:00:00  1.12194  1.12900  1.12130  1.12712  308003.4083"
      ]
     },
     "execution_count": 99,
     "metadata": {},
     "output_type": "execute_result"
    }
   ],
   "source": [
    "forex.head(5)\n"
   ]
  },
  {
   "cell_type": "markdown",
   "metadata": {},
   "source": [
    "**Plot Price as a line graph**"
   ]
  },
  {
   "cell_type": "code",
   "execution_count": 104,
   "metadata": {},
   "outputs": [
    {
     "name": "stderr",
     "output_type": "stream",
     "text": [
      "No handles with labels found to put in legend.\n"
     ]
    },
    {
     "data": {
      "image/png": "[encoded data removed]",
      "text/plain": [
       "<Figure size 1080x1296 with 1 Axes>"
      ]
     },
     "metadata": {
      "needs_background": "light"
     },
     "output_type": "display_data"
    }
   ],
   "source": [
    "plt.figure(figsize=(15, 18))\n",
    "plt.plot(forex.min())\n",
    "plt.legend()\n",
    "plt.show()"
   ]
  },
  {
   "cell_type": "code",
   "execution_count": 105,
   "metadata": {},
   "outputs": [
    {
     "data": {
      "text/plain": [
       "1.03693"
      ]
     },
     "execution_count": 105,
     "metadata": {},
     "output_type": "execute_result"
    }
   ],
   "source": [
    "forex.open.min()"
   ]
  }
 ],
 "metadata": {
  "kernelspec": {
   "display_name": "Python 3.9.12 ('base')",
   "language": "python",
   "name": "python3"
  },
  "language_info": {
   "codemirror_mode": {
    "name": "ipython",
    "version": 3
   },
   "file_extension": ".py",
   "mimetype": "text/x-python",
   "name": "python",
   "nbconvert_exporter": "python",
   "pygments_lexer": "ipython3",
   "version": "3.9.7"
  },
  "orig_nbformat": 4,
  "vscode": {
   "interpreter": {
    "hash": "ad2bdc8ecc057115af97d19610ffacc2b4e99fae6737bb82f5d7fb13d2f2c186"
   }
  }
 },
 "nbformat": 4,
 "nbformat_minor": 2
}
